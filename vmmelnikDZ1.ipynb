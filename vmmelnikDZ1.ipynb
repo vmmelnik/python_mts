{
 "cells": [
  {
   "cell_type": "markdown",
   "metadata": {},
   "source": [
    "# Базовый уровень"
   ]
  },
  {
   "cell_type": "markdown",
   "metadata": {},
   "source": [
    "## Задание 1.1"
   ]
  },
  {
   "cell_type": "markdown",
   "metadata": {},
   "source": [
    "Установите Python на свой компьютер. Для этого можно воспользоваться готовым дистрибутивом Anaconda, в котором уже есть все библиотеки, которые понадобятся вам в этом курсе. Установочный файл дистрибутива Anaconda можно скачать по ссылке https://www.continuum.io/downloads.\n",
    "\n",
    "*Обратите внимание, что по ссылке можно скачать несколько разных версий Anaconda в зависимости от разрядности вашей операционной системы (32 бита или 64 бита) и версии Python, которую вы собираетесь использовать (в этом курсе мы будем пользоваться Python 2.7).*"
   ]
  },
  {
   "cell_type": "markdown",
   "metadata": {},
   "source": [
    "## Задание 1.2"
   ]
  },
  {
   "cell_type": "markdown",
   "metadata": {},
   "source": [
    "Заведите учетную запись на сайте https://github.com и создайте репозиторий для выполненных домашних заданий по этому курсу."
   ]
  },
  {
   "cell_type": "markdown",
   "metadata": {},
   "source": [
    "## Задание 1.3"
   ]
  },
  {
   "cell_type": "markdown",
   "metadata": {},
   "source": [
    "Запустите Jupyter и откройте в нем этот ноутбук (файл с расширением `.ipynb`). Выполните следующую ячейку:"
   ]
  },
  {
   "cell_type": "code",
   "execution_count": 6,
   "metadata": {},
   "outputs": [
    {
     "name": "stdout",
     "output_type": "stream",
     "text": [
      "Здравствуй, дивный новый мир!\n"
     ]
    }
   ],
   "source": [
    "# Используем Python 3\n",
    "print ('Здравствуй, дивный новый мир!')"
   ]
  },
  {
   "cell_type": "markdown",
   "metadata": {},
   "source": [
    "## Задание 1.4"
   ]
  },
  {
   "cell_type": "markdown",
   "metadata": {},
   "source": [
    "Приведите несколько примеров задач, которые вы бы хотели научиться решать с помощью Python, пройдя этот курс.\n",
    "\n",
    "*Измените тип следующей ячейки на Markdown и оформите текст в виде списка.*"
   ]
  },
  {
   "cell_type": "markdown",
   "metadata": {
    "collapsed": true
   },
   "source": []
  },
  {
   "cell_type": "markdown",
   "metadata": {},
   "source": [
    "## Задание 1.5"
   ]
  },
  {
   "cell_type": "markdown",
   "metadata": {},
   "source": [
    "После выполнения заданий в этом ноутбуке, сохраните его и отправьте (\"закоммитьте\") в свой репозиторий."
   ]
  },
  {
   "cell_type": "markdown",
   "metadata": {},
   "source": [
    "# Продвинутый уровень"
   ]
  },
  {
   "cell_type": "markdown",
   "metadata": {},
   "source": [
    "## Задание 2.1"
   ]
  },
  {
   "cell_type": "markdown",
   "metadata": {},
   "source": [
    "Процентная ставка по банковскому вкладу составляет $p = 8\\%$, капитализация происходит $f = 12$ раз в год. Сумма вклада составляет $S = 200000$ рублей. Рассчитайте в следующей ячейке прибыль по вкладу за $L = 5$ лет по следующей формуле:\n",
    "\n",
    "$$ S \\cdot \\left( 1 + \\frac{p}{100 \\cdot f} \\right)^{f \\cdot L} - S $$"
   ]
  },
  {
   "cell_type": "code",
   "execution_count": 9,
   "metadata": {},
   "outputs": [
    {
     "data": {
      "text/plain": [
       "97969.14166032098"
      ]
     },
     "execution_count": 9,
     "metadata": {},
     "output_type": "execute_result"
    }
   ],
   "source": [
    "# Используем Python 3\n",
    "200000*(1+8/(100*12))**(12*5)-200000"
   ]
  },
  {
   "cell_type": "markdown",
   "metadata": {},
   "source": [
    "# Сложный уровень"
   ]
  },
  {
   "cell_type": "markdown",
   "metadata": {},
   "source": [
    "## Задание 3.1"
   ]
  },
  {
   "cell_type": "markdown",
   "metadata": {},
   "source": [
    "Если в задаче 2.1 мы захотим пересчитать прибыль по вкладу для других значений параметров, нам придется подставить в формулу новые значения. Это не очень удобно – например, значение суммы вклада $S$ придется подставлять два раза. Гораздо проще запомнить значения параметров заранее (записать их в переменные), как это сделано в следующей ячейке. Запишите в последней строке нашу формулу, используя вместо чисел буквы `p`, `f`, `S`, `L` (переменные) и выполните ячейку.\n",
    "\n",
    "*Убедитесь, что ответ совпадает с ответом к задаче 2.1.*"
   ]
  },
  {
   "cell_type": "code",
   "execution_count": 14,
   "metadata": {},
   "outputs": [
    {
     "data": {
      "text/plain": [
       "93865.61536000011"
      ]
     },
     "execution_count": 14,
     "metadata": {},
     "output_type": "execute_result"
    }
   ],
   "source": [
    "# Используем Python 3\n",
    "# процентная ставка\n",
    "p = 8.0\n",
    "\n",
    "# сколько раз в год происходит капитализация\n",
    "f = 1\n",
    "\n",
    "# сумма вклада\n",
    "S = 200000.0\n",
    "\n",
    "# количество лет\n",
    "L = 5\n",
    "\n",
    "# запишите общую формулу прибыли вместо этой строки\n",
    "S*(1+p/(100*f))**(f*L)-S"
   ]
  },
  {
   "cell_type": "markdown",
   "metadata": {},
   "source": [
    "Пересчитайте значение прибыли в случае, когда капитализация происходит один раз в год. Для этого исправьте строку `f = 12` на `f = 1` и перезапустите ячейку."
   ]
  }
 ],
 "metadata": {
  "kernelspec": {
   "display_name": "Python 3",
   "language": "python",
   "name": "python3"
  },
  "language_info": {
   "codemirror_mode": {
    "name": "ipython",
    "version": 3
   },
   "file_extension": ".py",
   "mimetype": "text/x-python",
   "name": "python",
   "nbconvert_exporter": "python",
   "pygments_lexer": "ipython3",
   "version": "3.6.1"
  }
 },
 "nbformat": 4,
 "nbformat_minor": 2
}
